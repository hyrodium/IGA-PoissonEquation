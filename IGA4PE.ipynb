{
 "cells": [
  {
   "cell_type": "code",
   "execution_count": null,
   "metadata": {},
   "outputs": [],
   "source": [
    "push!(LOAD_PATH,\".\")\n",
    "using IntervalSets\n",
    "using LinearAlgebra\n",
    "using Makie\n",
    "using NURBS\n",
    "using ElementaryCalculus"
   ]
  },
  {
   "cell_type": "code",
   "execution_count": null,
   "metadata": {},
   "outputs": [],
   "source": [
    "# Example A\n",
    "p₁,p₂=p=[1,2]\n",
    "k₁,k₂=k=[[0,0,1,1],[0,0,0,1,1,2,2,2]]\n",
    "w=[1 1/sqrt(2) 1 1/sqrt(2) 1;1 1/sqrt(2) 1 1/sqrt(2) 1]\n",
    "a₁=[1 1 0 -1 -1;2 2 0 -2 -2]\n",
    "a₂=[0 1 1 1 0;0 2 2 2 0]\n",
    "a=[[a₁,a₂][i][I₁,I₂] for I₁ in 1:2, I₂ in 1:5, i in 1:2]\n",
    "NN=NURBS2mfd(p,k,w,a)\n",
    "NURBSdraw(NN,filename=\"A_original.svg\")\n",
    "NN=pref(NN,[1,0])\n",
    "NURBSdraw(NN,filename=\"A_pref.svg\")\n",
    "NN=href(NN,[[0.5],[0.5,1.5]])\n",
    "NURBSdraw(NN,filename=\"A_href.svg\")"
   ]
  },
  {
   "cell_type": "code",
   "execution_count": null,
   "metadata": {},
   "outputs": [],
   "source": [
    "# Example B\n",
    "p₁,p₂=p=[2,2]\n",
    "k₁,k₂=k=[[0,0,0,1,1,1],[0,0,0,1,1,1]]\n",
    "w=[1 1/sqrt(2) 1;1/sqrt(2) 1 1/sqrt(2);1 1/sqrt(2) 1]\n",
    "a₂=Float64[-1 0 1;-2 0 2;-1 0 1]\n",
    "a₁=Float64[-1 -2 -1;0 0 0;1 2 1]\n",
    "a=[[a₁,a₂][i][I₁,I₂] for I₁ in 1:3, I₂ in 1:3, i in 1:2]/sqrt(2)\n",
    "NN=NURBS2mfd(p,k,w,a)\n",
    "NURBSdraw(NN,filename=\"B_original.svg\")\n",
    "NN=href(NN,[[0.3,0.7],[0.3,0.7]])\n",
    "NURBSdraw(NN,filename=\"B_href.svg\")"
   ]
  },
  {
   "cell_type": "code",
   "execution_count": null,
   "metadata": {},
   "outputs": [],
   "source": [
    "function angl(N2::NURBS2mfd,I₁,I₂,J₁,J₂;nip=25)\n",
    "    p₁,p₂=p=N2.p\n",
    "    k₁,k₂=k=N2.k\n",
    "    D̂₁=Bsupp(I₁,p₁,k₁)∩Bsupp(J₁,p₁,k₁)\n",
    "    D̂₂=Bsupp(I₂,p₂,k₂)∩Bsupp(J₂,p₂,k₂)\n",
    "    INT2₊(u->(\n",
    "        J=NURBSṁapping(N2,u);\n",
    "        J⁻=inv(J);\n",
    "        sum(J⁻[k,m]*J⁻[l,m]*N′(N2,I₁,I₂,u)[k]*N′(N2,J₁,J₂,u)[l] for k in 1:2, l in 1:2, m in 1:2)*det(J)\n",
    "    ),(D̂₁,D̂₂),nip=nip)\n",
    "end\n",
    "function squa(N2::NURBS2mfd,I₁,I₂;nip=25)\n",
    "    p₁,p₂=p=N2.p\n",
    "    k₁,k₂=k=N2.k\n",
    "    D̂₁=Bsupp(I₁,p₁,k₁)\n",
    "    D̂₂=Bsupp(I₂,p₂,k₂)\n",
    "    INT2₊(u->(\n",
    "        J=NURBSṁapping(N2,u);\n",
    "        J⁻=inv(J);\n",
    "        N(N2,I₁,I₂,u)*f(u)*det(J)\n",
    "    ),(D̂₁,D̂₂),nip=nip)\n",
    "end\n",
    "n₁,n₂=n=length.(NN.k)-NN.p.-1\n",
    "@time A=[angl(NN,I₁,I₂,J₁,J₂,nip=20) for I₁ in 1:n₁, I₂ in 1:n₂, J₁ in 1:n₁, J₂ in 1:n₂];"
   ]
  },
  {
   "cell_type": "code",
   "execution_count": null,
   "metadata": {},
   "outputs": [],
   "source": [
    "# Example A-1\n",
    "f(u)=0\n",
    "@time C=[squa(NN,I₁,I₂,nip=20) for I₁ in 1:n₁, I₂ in 1:n₂];\n",
    "\n",
    "n₁,n₂=n=length.(NN.k)-NN.p.-1\n",
    "g_coef=[Float64(I₁==1)*3+2*Float64(I₁==n₁) for I₁ in 1:n₁, I₂ in 1:n₂]\n",
    "V=[]\n",
    "for I₁ in 1:n₁, I₂ in 1:n₂\n",
    "    if(I₁!=1&&I₁!=n₁)\n",
    "        push!(V,[I₁,I₂])\n",
    "    end\n",
    "end"
   ]
  },
  {
   "cell_type": "code",
   "execution_count": null,
   "metadata": {},
   "outputs": [],
   "source": [
    "# Example A-2\n",
    "f(u)=0\n",
    "@time C=[squa(NN,I₁,I₂,nip=20) for I₁ in 1:n₁, I₂ in 1:n₂];\n",
    "\n",
    "g_coef=[Float64(I₂==1)*3+Float64(I₂==n₂) for I₁ in 1:n₁, I₂ in 1:n₂]\n",
    "V=[]\n",
    "for I₁ in 1:n₁, I₂ in 1:n₂\n",
    "    if(I₂!=1&&I₂!=n₂)\n",
    "        push!(V,[I₁,I₂])\n",
    "    end\n",
    "end"
   ]
  },
  {
   "cell_type": "code",
   "execution_count": null,
   "metadata": {},
   "outputs": [],
   "source": [
    "# Example A-3\n",
    "f(u)=4\n",
    "@time C=[squa(NN,I₁,I₂,nip=20) for I₁ in 1:n₁, I₂ in 1:n₂];\n",
    "\n",
    "g_coef=[0.0 for I₁ in 1:n₁, I₂ in 1:n₂]\n",
    "V=[]\n",
    "for I₁ in 1:n₁, I₂ in 1:n₂\n",
    "    if(I₁!=1&&I₁!=n₁&&I₂!=1&&I₂!=n₂)\n",
    "        push!(V,[I₁,I₂])\n",
    "    end\n",
    "end"
   ]
  },
  {
   "cell_type": "code",
   "execution_count": null,
   "metadata": {},
   "outputs": [],
   "source": [
    "# Example B-1\n",
    "f(u)=4\n",
    "@time C=[squa(NN,I₁,I₂,nip=20) for I₁ in 1:n₁, I₂ in 1:n₂];\n",
    "\n",
    "g_coef=[0.0 for I₁ in 1:n₁, I₂ in 1:n₂]\n",
    "V=[]\n",
    "for I₁ in 1:n₁, I₂ in 1:n₂\n",
    "    if(I₁!=1&&I₁!=n₁&&I₂!=1&&I₂!=n₂)\n",
    "        push!(V,[I₁,I₂])\n",
    "    end\n",
    "end"
   ]
  },
  {
   "cell_type": "code",
   "execution_count": null,
   "metadata": {},
   "outputs": [],
   "source": [
    "# Solve Linear Equation\n",
    "B̂=[sum(g_coef[I₁,I₂]*A[v1...,I₁,I₂] for I₁ in 1:n₁, I₂ in 1:n₂) for v1 in V]\n",
    "Ĉ=[C[v1...] for v1 in V]\n",
    "Â=[A[v1...,v2...] for v1 in V, v2 in V]\n",
    "v̂=Â\\(-B̂+Ĉ)\n",
    "v_coef=zeros(n₁,n₂)\n",
    "for i in 1:length(V)\n",
    "    v_coef[V[i]...]=v̂[i]\n",
    "end\n",
    "u_coef=v_coef+g_coef"
   ]
  },
  {
   "cell_type": "code",
   "execution_count": null,
   "metadata": {},
   "outputs": [],
   "source": [
    "# Makie Export\n",
    "mesh=50,50\n",
    "U=[[u₁,u₂] for u₁ ∈ range(NN.k[1][1],stop=NN.k[1][end],length=mesh[1]), u₂ ∈ range(NN.k[2][1],stop=NN.k[2][end],length=mesh[2])]\n",
    "x=[NURBSmapping(NN,u)[1] for u in U]\n",
    "y=[NURBSmapping(NN,u)[2] for u in U]\n",
    "z=[sum(u_coef[I₁,I₂]*N(NN,I₁,I₂,u) for I₁ in 1:n₁, I₂ in 1:n₂) for u in U]\n",
    "z0=[0 for u in U]\n",
    "rand([-1f0, 1f0], 3)\n",
    "pts = vec(Point3f0.(x, y, z))\n",
    "Makie.surface(x, y, z)\n",
    "Makie.surface!(x, y, z0,colormap = :Spectral)"
   ]
  },
  {
   "cell_type": "code",
   "execution_count": null,
   "metadata": {},
   "outputs": [],
   "source": [
    "# Visualize Basis Functions\n",
    "mesh=100,100\n",
    "U=[[u₁,u₂] for u₁ ∈ range(NN.k[1][1],stop=NN.k[1][end],length=mesh[1]), u₂ ∈ range(NN.k[2][1],stop=NN.k[2][end],length=mesh[2])]\n",
    "x=[NURBSmapping(NN,u)[1] for u in U]\n",
    "y=[NURBSmapping(NN,u)[2] for u in U]\n",
    "n₁,n₂=n=length.(NN.k)-(NN.p).-1\n",
    "for I₁ in 1:n₁, I₂ in 1:n₂\n",
    "    x=[NURBSmapping(NN,u)[1] for u in U]\n",
    "    y=[NURBSmapping(NN,u)[2] for u in U]\n",
    "    z=[N(NN,I₁,I₂,u) for u in U]\n",
    "    global hoge=surface!(x, y, z)\n",
    "end\n",
    "hoge"
   ]
  },
  {
   "cell_type": "code",
   "execution_count": null,
   "metadata": {},
   "outputs": [],
   "source": [
    "#Visualize Bi and Ni\n",
    "mesh=30,50\n",
    "U=[[u₁,u₂] for u₁ ∈ range(NN.k[1][1],stop=NN.k[1][end],length=mesh[1]), u₂ ∈ range(NN.k[2][1],stop=NN.k[2][end],length=mesh[2])]\n",
    "x=[NURBSmapping(NN,u)[1] for u in U]\n",
    "y=[NURBSmapping(NN,u)[2] for u in U]\n",
    "z=[N(NN,1,2,u) for u in U]\n",
    "u=[u[1] for u in U]\n",
    "v=[u[2] for u in U]\n",
    "w=[N(NN,1,2,u) for u in U]\n",
    "surface(x, y, z)\n",
    "\n",
    "p1 = surface(u, v, w)\n",
    "p2 = surface(x, y, z)\n",
    "scene = vbox(p1, p2)"
   ]
  },
  {
   "cell_type": "code",
   "execution_count": null,
   "metadata": {},
   "outputs": [],
   "source": []
  }
 ],
 "metadata": {
  "kernelspec": {
   "display_name": "Julia 1.0.3",
   "language": "julia",
   "name": "julia-1.0"
  },
  "language_info": {
   "file_extension": ".jl",
   "mimetype": "application/julia",
   "name": "julia",
   "version": "1.0.3"
  }
 },
 "nbformat": 4,
 "nbformat_minor": 2
}
